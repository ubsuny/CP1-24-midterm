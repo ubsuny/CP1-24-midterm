{
  "nbformat": 4,
  "nbformat_minor": 0,
  "metadata": {
    "colab": {
      "provenance": [],
      "authorship_tag": "ABX9TyP30ixJ8Yfj1SlkejbeijC7",
      "include_colab_link": true
    },
    "kernelspec": {
      "name": "python3",
      "display_name": "Python 3"
    },
    "language_info": {
      "name": "python"
    }
  },
  "cells": [
    {
      "cell_type": "markdown",
      "metadata": {
        "id": "view-in-github",
        "colab_type": "text"
      },
      "source": [
        "<a href=\"https://colab.research.google.com/github/dhamalakamal/CP1-24-midterm/blob/mid_term/Untitled2.ipynb\" target=\"_parent\"><img src=\"https://colab.research.google.com/assets/colab-badge.svg\" alt=\"Open In Colab\"/></a>"
      ]
    },
    {
      "cell_type": "code",
      "execution_count": 6,
      "metadata": {
        "id": "pBq2ejVqNAE1"
      },
      "outputs": [],
      "source": [
        "# Conversion factors\n",
        "FEET_TO_METERS = 0.3048\n",
        "YARDS_TO_METERS = 0.9144\n",
        "def feet_to_meters(feet):\n",
        "    \"\"\"\n",
        "    Convert feet to meters.\n",
        "    Parameters:\n",
        "    feet (float): The distance in feet.\n",
        "    Returns:\n",
        "    float: The distance in meters.\n",
        "    \"\"\"\n",
        "    return feet * FEET_TO_METERS\n",
        "def yards_to_meters(yards):\n",
        "    \"\"\"\n",
        "    Convert yards to meters.\n",
        "    Parameters:\n",
        "    yards (float): The distance in yards.\n",
        "    Returns:\n",
        "    float: The distance in meters.\n",
        "    \"\"\"\n",
        "    return yards * YARDS_TO_METERS"
      ]
    }
  ]
}