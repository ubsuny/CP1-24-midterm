{
 "cells": [
  {
   "cell_type": "code",
   "execution_count": 1,
   "metadata": {},
   "outputs": [],
   "source": [
    "''' This noteboook collects all modules and tests their various outputs '''\n",
    "\n",
    "import distance as ds\n",
    "import numpy as np\n",
    "import matplotlib.pyplot as plt\n",
    "import direction_of_motion as dm\n",
    "import unix_time as ut"
   ]
  },
  {
   "cell_type": "code",
   "execution_count": null,
   "metadata": {},
   "outputs": [],
   "source": [
    "(t, lat, lon, alt, alt84, speed, \n",
    " direction, distance, sigma_horz_meters, sigma_alt_meters, satellites) = np.loadtxt(\n",
    "    '/workspaces/CP1-24-midterm/iglesias-cardinale/data/ic001_gps_circle_run001.csv' ,\n",
    "    skiprows=1,\n",
    "    delimiter = ',',\n",
    "    unpack=True)\n",
    "\n",
    "#Convert latitude and longitude from degrees to radians\n",
    "lat_rad = lat*np.pi/180\n",
    "lon_rad = lon*np.pi/180\n",
    "\n",
    "#Calculate the x, y and z positions\n",
    "x,y,z = ds.gps_wgs84(lat_rad, lon_rad, alt84)\n",
    "\n",
    "#Plot the data\n",
    "plt.plot(x,y, ',')\n",
    "plt.xlabel('x (meters)')\n",
    "plt.ylabel('y (meters)')\n",
    "plt.title('Loop Through Downtown Buffalo (Roughly a Circle)')"
   ]
  },
  {
   "cell_type": "code",
   "execution_count": null,
   "metadata": {},
   "outputs": [],
   "source": [
    "(t, lat, lon, alt, alt84, speed, direction, distance, \n",
    " sigma_horz_meters, sigma_alt_meters, satellites) = np.loadtxt(\n",
    "    '/workspaces/CP1-24-midterm/iglesias-cardinale/data/ic002_gps_right_triangle_run001.csv' ,\n",
    "    skiprows=1,\n",
    "    delimiter = ',',\n",
    "    unpack=True)\n",
    "\n",
    "#Convert latitude and longitude from degrees to radians\n",
    "lat_rad = lat*np.pi/180\n",
    "lon_rad = lon*np.pi/180\n",
    "\n",
    "#Calculate the x, y and z positions\n",
    "x,y,z = ds.gps_wgs84(lat_rad, lon_rad, alt84)\n",
    "\n",
    "#Plot the data\n",
    "plt.plot(x,y, ',')\n",
    "plt.xlabel('x (meters)')\n",
    "plt.ylabel('y (meters)')\n",
    "plt.title('Right Triangle Assuming a Curved Earth')"
   ]
  },
  {
   "cell_type": "markdown",
   "metadata": {},
   "source": [
    "# Finding Velocity\n",
    "\n",
    "Given acceleration $a(t)$ we must find the  direction of motion, or the velocity, $v(t)$. \n",
    "Assuming we begin at time $t_0$ with velocity $v_0$ we have \n",
    "$$ v(t) = v_0 + \\int_{t_0}^t a(t')dt' $$"
   ]
  },
  {
   "cell_type": "code",
   "execution_count": null,
   "metadata": {},
   "outputs": [],
   "source": [
    "# Finding and plotting direction of motion (velocity) from acceleration data\n",
    "\n",
    "#First extract the acceleration data:\n",
    "\n",
    "# Time (seconds), x-accel (m/s^2), y-accel (m/s^2), z-accel (m/s^2), absolute accel (m/s^2)\n",
    "t, a_x, a_y, a_z, a = np.loadtxt(\n",
    "    '/workspaces/CP1-24-midterm/iglesias-cardinale/data/ic003_accel_elevator_down.csv' ,\n",
    "    skiprows=1,\n",
    "    delimiter = ',',\n",
    "    unpack=True)\n",
    "\n",
    "plt.plot(t, a_x, label = 'x-acceleration')\n",
    "plt.plot(t, a_y, label = 'y-acceleration')\n",
    "plt.plot(t, a_z, label = 'z-acceleration')\n",
    "plt.xlabel('Time, t (s)')\n",
    "plt.ylabel('Acceleration, a (m/s^2)')\n",
    "plt.title('Acceleration in Elevator moving down 10 Floors')\n",
    "plt.legend()\n",
    "plt.show()\n",
    "\n",
    "# Example usage\n",
    "v_x = dm.velocity(t, a_x, 0)\n",
    "v_y = dm.velocity(t, a_y, 0)\n",
    "v_z = dm.velocity(t, a_z, 0)\n",
    "\n",
    "# Plot the velocity components\n",
    "plt.plot(t, v_x, label = 'x-velocity')\n",
    "plt.plot(t, v_y, label = 'y-velocity')\n",
    "plt.plot(t, v_z, label = 'z-velocity')\n",
    "plt.xlabel('Time, t (s)')\n",
    "plt.ylabel('Velocity, v (m/s)')\n",
    "plt.title('Velocity in Elevator moving down 10 Floors')\n",
    "plt.legend()\n",
    "plt.show()\n"
   ]
  },
  {
   "cell_type": "code",
   "execution_count": null,
   "metadata": {},
   "outputs": [],
   "source": [
    "# Finding and plotting direction of motion (velocity) from acceleration data\n",
    "\n",
    "#First extract the acceleration data:\n",
    "\n",
    "# Time (seconds), x-accel (m/s^2), y-accel (m/s^2), \n",
    "# #z-accel (m/s^2), absolute accel (m/s^2)\n",
    "t, a_x, a_y, a_z, a = np.loadtxt(\n",
    "    '/workspaces/CP1-24-midterm/iglesias-cardinale/data/ic004_accel_elevator_up.csv' ,\n",
    "    skiprows=1,\n",
    "    delimiter = ',',\n",
    "    unpack=True)\n",
    "\n",
    "plt.plot(t, a_x, label = 'x-acceleration')\n",
    "plt.plot(t, a_y, label = 'y-acceleration')\n",
    "plt.plot(t, a_z, label = 'z-acceleration')\n",
    "plt.xlabel('Time, t (s)')\n",
    "plt.ylabel('Acceleration, a (m/s^2)')\n",
    "plt.title('Acceleration in Elevator moving up 10 Floors')\n",
    "plt.legend()\n",
    "plt.show()\n",
    "\n",
    "# Example usage\n",
    "v_x = dm.velocity(t, a_x, 0)\n",
    "v_y = dm.velocity(t, a_y, 0)\n",
    "v_z = dm.velocity(t, a_z, 0)\n",
    "\n",
    "# Plot the velocity components\n",
    "plt.plot(t, v_x, label = 'x-velocity')\n",
    "plt.plot(t, v_y, label = 'y-velocity')\n",
    "plt.plot(t, v_z, label = 'z-velocity')\n",
    "plt.xlabel('Time, t (s)')\n",
    "plt.ylabel('Velocity, v (m/s)')\n",
    "plt.title('Velocity in Elevator moving up 10 Floors')\n",
    "plt.legend()\n",
    "plt.show()\n"
   ]
  },
  {
   "cell_type": "code",
   "execution_count": null,
   "metadata": {},
   "outputs": [],
   "source": [
    "dm.direction_of_motion(a_x,a_y,a_z,t,range(400))\n",
    "\n"
   ]
  },
  {
   "cell_type": "code",
   "execution_count": null,
   "metadata": {},
   "outputs": [],
   "source": [
    "year, month, day, hour, minute, second = ut.gettime(\n",
    "    '/workspaces/CP1-24-midterm/iglesias-cardinale/data/ic004_accel_elevator_up.md')\n",
    "\n",
    "ut.date2unix(int(month[0]), int(day[0]), int(hour[0]), int(minute[0]), int(second[0]))\n"
   ]
  }
 ],
 "metadata": {
  "kernelspec": {
   "display_name": "Python 3",
   "language": "python",
   "name": "python3"
  },
  "language_info": {
   "codemirror_mode": {
    "name": "ipython",
    "version": 3
   },
   "file_extension": ".py",
   "mimetype": "text/x-python",
   "name": "python",
   "nbconvert_exporter": "python",
   "pygments_lexer": "ipython3",
   "version": "3.11.2"
  }
 },
 "nbformat": 4,
 "nbformat_minor": 2
}
